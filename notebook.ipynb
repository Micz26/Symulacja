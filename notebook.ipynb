{
 "cells": [
  {
   "cell_type": "code",
   "execution_count": 2,
   "id": "dcc8155ee5789b59",
   "metadata": {
    "ExecuteTime": {
     "end_time": "2024-01-16T13:09:25.244736800Z",
     "start_time": "2024-01-16T13:09:25.217970100Z"
    },
    "collapsed": false
   },
   "outputs": [],
   "source": [
    "import numpy as np\n",
    "import matplotlib.pyplot as plt\n",
    "from main import day\n",
    "from scipy.stats import spearmanr\n",
    "from scipy.stats import ttest_ind"
   ]
  },
  {
   "cell_type": "markdown",
   "id": "218b1573c4335aba",
   "metadata": {
    "collapsed": false
   },
   "source": [
    "Let's assume there are three days with different peculiarities corresponding to their nature, thus different visiting clients' frequencies."
   ]
  },
  {
   "cell_type": "code",
   "execution_count": 3,
   "id": "de16e73f0ed8e6f6",
   "metadata": {
    "ExecuteTime": {
     "end_time": "2024-01-16T13:09:25.287582Z",
     "start_time": "2024-01-16T13:09:25.254781300Z"
    },
    "collapsed": false
   },
   "outputs": [],
   "source": [
    "working_day = {\n",
    "    '8:00-9:00': 1/150,\n",
    "    '9:00-10:00': 1/170,\n",
    "    '10:00-11:00': 1/225,\n",
    "    '11:00-12:00': 1/250,\n",
    "    '12:00-13:00': 1/300,\n",
    "    '13:00-14:00': 1/250,\n",
    "    '14:00-15:00': 1/150,\n",
    "    '15:00-16:00': 1/100,\n",
    "    '16:00-17:00': 1/70,\n",
    "    '17:00-18:00': 1/50,\n",
    "    '18:00-19:00': 1/70,\n",
    "    '19:00-20:00': 1/150,\n",
    "    '20:00-21:00': 1/200,\n",
    "    '21:00-22:00': 1/250,\n",
    "    '22:00-23:00': 1/350\n",
    "}\n",
    "\n",
    "day_off = {\n",
    "    '8:00-9:00': 1/200,\n",
    "    '9:00-10:00': 1/200,\n",
    "    '10:00-11:00': 1/190,\n",
    "    '11:00-12:00': 1/180,\n",
    "    '12:00-13:00': 1/170,\n",
    "    '13:00-14:00': 1/160,\n",
    "    '14:00-15:00': 1/150,\n",
    "    '15:00-16:00': 1/130,\n",
    "    '16:00-17:00': 1/130,\n",
    "    '17:00-18:00': 1/130,\n",
    "    '18:00-19:00': 1/150,\n",
    "    '19:00-20:00': 1/200,\n",
    "    '20:00-21:00': 1/250,\n",
    "    '21:00-22:00': 1/250,\n",
    "    '22:00-23:00': 1/200\n",
    "}\n",
    "\n",
    "pre_holiday = {\n",
    "    '8:00-9:00': 1/300,\n",
    "    '9:00-10:00': 1/280,\n",
    "    '10:00-11:00': 1/250,\n",
    "    '11:00-12:00': 1/220,\n",
    "    '12:00-13:00': 1/190,\n",
    "    '13:00-14:00': 1/160,\n",
    "    '14:00-15:00': 1/140,\n",
    "    '15:00-16:00': 1/120,\n",
    "    '16:00-17:00': 1/100,\n",
    "    '17:00-18:00': 1/80,\n",
    "    '18:00-19:00': 1/60,\n",
    "    '19:00-20:00': 1/40,\n",
    "    '20:00-21:00': 1/80,\n",
    "    '21:00-22:00': 1/150,\n",
    "    '22:00-23:00': 1/100\n",
    "}"
   ]
  },
  {
   "cell_type": "markdown",
   "id": "3c9e2b2566eba8a4",
   "metadata": {
    "collapsed": false
   },
   "source": [
    "To fully analyze the impact of traditional counters and self-checkouts on shopping queue times, the number of traditional counters will vary, from 3 to 7, nonetheless, since self-checkouts registers do not require more than one employee (regardless from their amount), their total number will remain constant at six"
   ]
  },
  {
   "cell_type": "code",
   "execution_count": 4,
   "id": "c7528a247e1b9690",
   "metadata": {
    "ExecuteTime": {
     "end_time": "2024-01-16T13:10:39.628872Z",
     "start_time": "2024-01-16T13:09:25.295097700Z"
    },
    "collapsed": false
   },
   "outputs": [],
   "source": [
    "working_day_3 = []\n",
    "working_day_5 = []\n",
    "working_day_7 = []\n",
    "\n",
    "day_off_3 = []\n",
    "day_off_5 = []\n",
    "day_off_7 = []\n",
    "\n",
    "pre_holiday_3 = []\n",
    "pre_holiday_5 = []\n",
    "pre_holiday_7 = []\n",
    "\n",
    "for i in range(30):\n",
    "    working_day_3.append(day(3, working_day))\n",
    "    working_day_5.append(day(5, working_day))\n",
    "    working_day_7.append(day(7, working_day))\n",
    "    \n",
    "    day_off_3.append(day(3, day_off))\n",
    "    day_off_5.append(day(5, day_off))\n",
    "    day_off_7.append(day(7, day_off))\n",
    "    \n",
    "    pre_holiday_3.append(day(3, pre_holiday))\n",
    "    pre_holiday_5.append(day(5, pre_holiday))\n",
    "    pre_holiday_7.append(day(7, pre_holiday))\n"
   ]
  },
  {
   "cell_type": "code",
   "execution_count": 5,
   "id": "d1d80290",
   "metadata": {},
   "outputs": [],
   "source": [
    "pre_holiday_3_mean = np.mean(pre_holiday_3)\n",
    "pre_holiday_5_mean = np.mean(pre_holiday_5)\n",
    "pre_holiday_7_mean = np.mean(pre_holiday_7)\n",
    "\n",
    "pre_holiday_3_max = max(pre_holiday_3)\n",
    "pre_holiday_5_max = max(pre_holiday_5)\n",
    "pre_holiday_7_max = max(pre_holiday_7)\n",
    "\n",
    "pre_holiday_3_min = min(pre_holiday_3)\n",
    "pre_holiday_5_min = min(pre_holiday_5)\n",
    "pre_holiday_7_min = min(pre_holiday_7)\n",
    "\n",
    "\n",
    "day_off_3_mean = np.mean(day_off_3)\n",
    "day_off_5_mean = np.mean(day_off_5)\n",
    "day_off_7_mean = np.mean(day_off_7)\n",
    "\n",
    "day_off_3_max = max(day_off_3)\n",
    "day_off_5_max = max(day_off_5)\n",
    "day_off_7_max = max(day_off_7)\n",
    "\n",
    "day_off_3_min = min(day_off_3)\n",
    "day_off_5_min = min(day_off_5)\n",
    "day_off_7_min = min(day_off_7)\n",
    "\n",
    "\n",
    "working_day_3_mean = np.mean(working_day_3)\n",
    "working_day_5_mean = np.mean(working_day_5)\n",
    "working_day_7_mean = np.mean(working_day_7)\n",
    "\n",
    "working_day_3_max = max(working_day_3)\n",
    "working_day_5_max = max(working_day_5)\n",
    "working_day_7_max = max(working_day_7)\n",
    "\n",
    "working_day_3_min = min(working_day_3)\n",
    "working_day_5_min = min(working_day_5)\n",
    "working_day_7_min = min(working_day_7)"
   ]
  },
  {
   "cell_type": "code",
   "execution_count": 6,
   "id": "2a22c911",
   "metadata": {},
   "outputs": [
    {
     "data": {
      "image/png": "[encoded data removed]",
      "text/plain": [
       "<Figure size 640x480 with 1 Axes>"
      ]
     },
     "metadata": {},
     "output_type": "display_data"
    }
   ],
   "source": [
    "data = [pre_holiday_3, pre_holiday_5, pre_holiday_7]\n",
    "\n",
    "fig, ax = plt.subplots()\n",
    "\n",
    "# Tworzenie diagramu pudełkowego\n",
    "box = ax.boxplot(data, vert=True, patch_artist=True, labels=['Pre_holiday (3)', 'Pre_holiday (5)', 'Pre_holiday (7)'], showfliers=False)\n",
    "\n",
    "# Zaznaczanie średnich na diagramie\n",
    "ax.plot([1, 2, 3], [pre_holiday_3_mean, pre_holiday_5_mean, pre_holiday_7_mean], marker='x', markersize=6, linestyle='', color='red', label='Mean')\n",
    "\n",
    "# Ustawianie etykiet i tytułów\n",
    "ax.set_xticks([1, 2, 3])\n",
    "ax.set_xlabel('Number of registers')\n",
    "ax.set_ylabel('Waiting time (seconds)')\n",
    "ax.set_title('Boxplot of Waiting Time for pre holiday')\n",
    "\n",
    "# Legenda\n",
    "ax.legend()\n",
    "\n",
    "plt.show()\n"
   ]
  },
  {
   "cell_type": "code",
   "execution_count": 7,
   "id": "f53da957",
   "metadata": {},
   "outputs": [
    {
     "data": {
      "image/png": "[encoded data removed]",
      "text/plain": [
       "<Figure size 640x480 with 1 Axes>"
      ]
     },
     "metadata": {},
     "output_type": "display_data"
    }
   ],
   "source": [
    "data = [day_off_3, day_off_5, day_off_7]\n",
    "\n",
    "fig, ax = plt.subplots()\n",
    "\n",
    "# Tworzenie diagramu pudełkowego\n",
    "box = ax.boxplot(data, vert=True, patch_artist=True, labels=['Day_off (3)', 'Day_off (5)', 'Day_off (7)'], showfliers=False)\n",
    "\n",
    "# Zaznaczanie średnich na diagramie\n",
    "ax.plot([1, 2, 3], [day_off_3_mean, day_off_5_mean, day_off_7_mean], marker='x', markersize=6, linestyle='', color='red', label='Mean')\n",
    "\n",
    "# Ustawianie etykiet i tytułów\n",
    "ax.set_xticks([1, 2, 3])\n",
    "ax.set_xlabel('Number of registers')\n",
    "ax.set_ylabel('Waiting time (seconds)')\n",
    "ax.set_title('Boxplot of Waiting Time for day off')\n",
    "\n",
    "# Legenda\n",
    "ax.legend()\n",
    "\n",
    "plt.show()"
   ]
  },
  {
   "cell_type": "code",
   "execution_count": 8,
   "id": "086e048b",
   "metadata": {},
   "outputs": [
    {
     "data": {
      "image/png": "[encoded data removed]",
      "text/plain": [
       "<Figure size 640x480 with 1 Axes>"
      ]
     },
     "metadata": {},
     "output_type": "display_data"
    }
   ],
   "source": [
    "data = [working_day_3, working_day_5, working_day_7]\n",
    "\n",
    "fig, ax = plt.subplots()\n",
    "\n",
    "# Tworzenie diagramu pudełkowego\n",
    "box = ax.boxplot(data, vert=True, patch_artist=True, labels=['Working_day (3)', 'Working_day (5)', 'Working_day (7)'], showfliers=False)\n",
    "\n",
    "# Zaznaczanie średnich na diagramie\n",
    "ax.plot([1, 2, 3], [working_day_3_mean, working_day_5_mean, working_day_7_mean], marker='x', markersize=6, linestyle='', color='red', label='Mean')\n",
    "\n",
    "# Ustawianie etykiet i tytułów\n",
    "ax.set_xticks([1, 2, 3])\n",
    "ax.set_xlabel('Number of registers')\n",
    "ax.set_ylabel('Waiting time (seconds)')\n",
    "ax.set_title('Boxplot of Waiting Time for working day')\n",
    "\n",
    "# Legenda\n",
    "ax.legend()\n",
    "\n",
    "plt.show()"
   ]
  },
  {
   "cell_type": "markdown",
   "id": "55128655",
   "metadata": {},
   "source": [
    "TESTY STATYSTYCZNE"
   ]
  },
  {
   "cell_type": "code",
   "execution_count": 9,
   "id": "b2244fa0",
   "metadata": {},
   "outputs": [
    {
     "name": "stdout",
     "output_type": "stream",
     "text": [
      "-1.0\n"
     ]
    }
   ],
   "source": [
    "means = [pre_holiday_3_mean, pre_holiday_5_mean, pre_holiday_7_mean]\n",
    "n = [3,5,7]\n",
    "\n",
    "correlation_coefficient, p_value = spearmanr(n, means)\n",
    "print(correlation_coefficient)"
   ]
  },
  {
   "cell_type": "code",
   "execution_count": 10,
   "id": "d8b01cd495552d98",
   "metadata": {
    "collapsed": false
   },
   "outputs": [
    {
     "name": "stdout",
     "output_type": "stream",
     "text": [
      "-1.0\n"
     ]
    }
   ],
   "source": [
    "means = [day_off_3_mean, day_off_5_mean, day_off_7_mean]\n",
    "n = [3,5,7]\n",
    "\n",
    "correlation_coefficient, p_value = spearmanr(n, means)\n",
    "print(correlation_coefficient)"
   ]
  },
  {
   "cell_type": "code",
   "execution_count": 11,
   "id": "13702664",
   "metadata": {},
   "outputs": [
    {
     "name": "stdout",
     "output_type": "stream",
     "text": [
      "-1.0\n"
     ]
    }
   ],
   "source": [
    "means = [working_day_3_mean, working_day_5_mean, working_day_7_mean]\n",
    "n = [3,5,7]\n",
    "\n",
    "correlation_coefficient, p_value = spearmanr(n, means)\n",
    "print(correlation_coefficient)"
   ]
  },
  {
   "cell_type": "code",
   "execution_count": 12,
   "id": "ba1be376",
   "metadata": {},
   "outputs": [
    {
     "name": "stdout",
     "output_type": "stream",
     "text": [
      "T-Statistic: -13.723649819584026\n",
      "P-Value: 3.617350756377321e-20\n",
      "Odrzucamy hipotezę zerową na poziomie istotności 0.05\n",
      "Hipoteza alternatywna: (Pre holiday) Średnia z 3 dni jest większa niż średnia z 5 dni\n"
     ]
    }
   ],
   "source": [
    "t_statistic, p_value = ttest_ind(pre_holiday_5, pre_holiday_3, alternative='less')\n",
    "\n",
    "print(\"T-Statistic:\", t_statistic)\n",
    "print(\"P-Value:\", p_value)\n",
    "\n",
    "alpha = 0.05\n",
    "if p_value < alpha:\n",
    "    print(\"Odrzucamy hipotezę zerową na poziomie istotności\", alpha)\n",
    "    print(\"Hipoteza alternatywna: (Pre holiday) Średnia z 3 dni jest większa niż średnia z 5 dni\")\n",
    "else:\n",
    "    print(\"Nie ma wystarczających dowodów, aby odrzucić hipotezę zerową - (Pre holiday) średnia z 3 dni jest równa średniej z 5 dni\")\n"
   ]
  },
  {
   "cell_type": "code",
   "execution_count": 13,
   "id": "85b4c092",
   "metadata": {},
   "outputs": [
    {
     "name": "stdout",
     "output_type": "stream",
     "text": [
      "T-Statistic: -2.0559570170840415\n",
      "P-Value: 0.02214836588659645\n",
      "Odrzucamy hipotezę zerową na poziomie istotności 0.05\n",
      "Hipoteza alternatywna: (Pre holiday) Średnia z 5 dni jest większa niż średnia z 7 dni\n"
     ]
    }
   ],
   "source": [
    "t_statistic, p_value = ttest_ind(pre_holiday_7, pre_holiday_5, alternative='less')\n",
    "\n",
    "print(\"T-Statistic:\", t_statistic)\n",
    "print(\"P-Value:\", p_value)\n",
    "\n",
    "alpha = 0.05\n",
    "if p_value < alpha:\n",
    "    print(\"Odrzucamy hipotezę zerową na poziomie istotności\", alpha)\n",
    "    print(\"Hipoteza alternatywna: (Pre holiday) Średnia z 5 dni jest większa niż średnia z 7 dni\")\n",
    "else:\n",
    "    print(\"Nie ma wystarczających dowodów, aby odrzucić hipotezę zerową - (Pre holiday) średnia z 5 dni jest równa średniej z 7 dni\")"
   ]
  },
  {
   "cell_type": "code",
   "execution_count": 14,
   "id": "03c5ee94",
   "metadata": {},
   "outputs": [
    {
     "name": "stdout",
     "output_type": "stream",
     "text": [
      "T-Statistic: -9.41203131777706\n",
      "P-Value: 1.3956219138527502e-13\n",
      "Odrzucamy hipotezę zerową na poziomie istotności 0.05\n",
      "Hipoteza alternatywna: (Day off) Średnia z 3 dni jest większa niż średnia z 5 dni\n"
     ]
    }
   ],
   "source": [
    "t_statistic, p_value = ttest_ind(day_off_5, day_off_3, alternative='less')\n",
    "\n",
    "print(\"T-Statistic:\", t_statistic)\n",
    "print(\"P-Value:\", p_value)\n",
    "\n",
    "alpha = 0.05\n",
    "if p_value < alpha:\n",
    "    print(\"Odrzucamy hipotezę zerową na poziomie istotności\", alpha)\n",
    "    print(\"Hipoteza alternatywna: (Day off) Średnia z 3 dni jest większa niż średnia z 5 dni\")\n",
    "else:\n",
    "    print(\"Nie ma wystarczających dowodów, aby odrzucić hipotezę zerową - (Day off) średnia z 3 dni jest równa średniej z 5 dni\")"
   ]
  },
  {
   "cell_type": "code",
   "execution_count": 15,
   "id": "33b14e85",
   "metadata": {},
   "outputs": [
    {
     "name": "stdout",
     "output_type": "stream",
     "text": [
      "T-Statistic: -1.0919984827951528\n",
      "P-Value: 0.13967455275246812\n",
      "Nie ma wystarczających dowodów, aby odrzucić hipotezę zerową - (Day off) średnia z 5 dni jest równa średniej z 7 dni\n"
     ]
    }
   ],
   "source": [
    "t_statistic, p_value = ttest_ind(day_off_7, day_off_5, alternative='less')\n",
    "\n",
    "print(\"T-Statistic:\", t_statistic)\n",
    "print(\"P-Value:\", p_value)\n",
    "\n",
    "alpha = 0.05\n",
    "if p_value < alpha:\n",
    "    print(\"Odrzucamy hipotezę zerową na poziomie istotności\", alpha)\n",
    "    print(\"Hipoteza alternatywna: (Day off) Średnia z 5 dni jest większa niż średnia z 7 dni\")\n",
    "else:\n",
    "    print(\"Nie ma wystarczających dowodów, aby odrzucić hipotezę zerową - (Day off) średnia z 5 dni jest równa średniej z 7 dni\")"
   ]
  },
  {
   "cell_type": "code",
   "execution_count": 16,
   "id": "0c4d6a18",
   "metadata": {},
   "outputs": [
    {
     "name": "stdout",
     "output_type": "stream",
     "text": [
      "T-Statistic: -8.942795230219483\n",
      "P-Value: 8.240872966343031e-13\n",
      "Odrzucamy hipotezę zerową na poziomie istotności 0.05\n",
      "Hipoteza alternatywna: (Working day) Średnia z 3 dni jest większa niż średnia z 5 dni\n"
     ]
    }
   ],
   "source": [
    "t_statistic, p_value = ttest_ind(working_day_5, working_day_3, alternative='less')\n",
    "\n",
    "print(\"T-Statistic:\", t_statistic)\n",
    "print(\"P-Value:\", p_value)\n",
    "\n",
    "alpha = 0.05\n",
    "if p_value < alpha:\n",
    "    print(\"Odrzucamy hipotezę zerową na poziomie istotności\", alpha)\n",
    "    print(\"Hipoteza alternatywna: (Working day) Średnia z 3 dni jest większa niż średnia z 5 dni\")\n",
    "else:\n",
    "    print(\"Nie ma wystarczających dowodów, aby odrzucić hipotezę zerową - (Working day) średnia z 3 dni jest równa średniej z 5 dni\")"
   ]
  },
  {
   "cell_type": "code",
   "execution_count": 17,
   "id": "f1ff14ff",
   "metadata": {},
   "outputs": [
    {
     "name": "stdout",
     "output_type": "stream",
     "text": [
      "T-Statistic: -0.6159795377131803\n",
      "P-Value: 0.27015899621712913\n",
      "Nie ma wystarczających dowodów, aby odrzucić hipotezę zerową - (Working day) średnia z 5 dni jest równa średniej z 7 dni\n"
     ]
    }
   ],
   "source": [
    "t_statistic, p_value = ttest_ind(working_day_7, working_day_5, alternative='less')\n",
    "\n",
    "print(\"T-Statistic:\", t_statistic)\n",
    "print(\"P-Value:\", p_value)\n",
    "\n",
    "alpha = 0.05\n",
    "if p_value < alpha:\n",
    "    print(\"Odrzucamy hipotezę zerową na poziomie istotności\", alpha)\n",
    "    print(\"Hipoteza alternatywna: (Working day) Średnia z 5 dni jest większa niż średnia z 7 dni\")\n",
    "else:\n",
    "    print(\"Nie ma wystarczających dowodów, aby odrzucić hipotezę zerową - (Working day) średnia z 5 dni jest równa średniej z 7 dni\")"
   ]
  },
  {
   "cell_type": "code",
   "execution_count": 18,
   "id": "52c1e044",
   "metadata": {},
   "outputs": [],
   "source": [
    "all_days_3 = pre_holiday_3 + working_day_3 + day_off_3\n",
    "all_days_5 = pre_holiday_5 + working_day_5 + day_off_5\n",
    "all_days_7 = pre_holiday_7 + working_day_7 + day_off_7"
   ]
  },
  {
   "cell_type": "code",
   "execution_count": 19,
   "id": "d26a8631",
   "metadata": {},
   "outputs": [
    {
     "name": "stdout",
     "output_type": "stream",
     "text": [
      "T-Statistic: -8.871246368132512\n",
      "P-Value: 3.7596449178347816e-16\n",
      "Odrzucamy hipotezę zerową na poziomie istotności 0.05\n",
      "Hipoteza alternatywna: (ALL days) Średnia z 3 dni jest większa niż średnia z 5 dni\n"
     ]
    }
   ],
   "source": [
    "t_statistic, p_value = ttest_ind(all_days_5, all_days_3, alternative='less')\n",
    "\n",
    "print(\"T-Statistic:\", t_statistic)\n",
    "print(\"P-Value:\", p_value)\n",
    "\n",
    "alpha = 0.05\n",
    "if p_value < alpha:\n",
    "    print(\"Odrzucamy hipotezę zerową na poziomie istotności\", alpha)\n",
    "    print(\"Hipoteza alternatywna: (ALL days) Średnia z 3 dni jest większa niż średnia z 5 dni\")\n",
    "else:\n",
    "    print(\"Nie ma wystarczających dowodów, aby odrzucić hipotezę zerową - (ALL days) średnia z 3 dni jest równa średniej z 5 dni\")"
   ]
  },
  {
   "cell_type": "code",
   "execution_count": 20,
   "id": "94f1b52c",
   "metadata": {},
   "outputs": [
    {
     "name": "stdout",
     "output_type": "stream",
     "text": [
      "T-Statistic: -1.3607941879869947\n",
      "P-Value: 0.08764960216176475\n",
      "Nie ma wystarczających dowodów, aby odrzucić hipotezę zerową - (ALL days) średnia z 3 dni jest równa średniej z 5 dni\n"
     ]
    }
   ],
   "source": [
    "t_statistic, p_value = ttest_ind(all_days_7, all_days_5, alternative='less')\n",
    "\n",
    "print(\"T-Statistic:\", t_statistic)\n",
    "print(\"P-Value:\", p_value)\n",
    "\n",
    "alpha = 0.05\n",
    "if p_value < alpha:\n",
    "    print(\"Odrzucamy hipotezę zerową na poziomie istotności\", alpha)\n",
    "    print(\"Hipoteza alternatywna: (ALL days) Średnia z 5 dni jest większa niż średnia z 7 dni\")\n",
    "else:\n",
    "    print(\"Nie ma wystarczających dowodów, aby odrzucić hipotezę zerową - (ALL days) średnia z 3 dni jest równa średniej z 5 dni\")"
   ]
  }
 ],
 "metadata": {
  "kernelspec": {
   "display_name": "Python 3 (ipykernel)",
   "language": "python",
   "name": "python3"
  },
  "language_info": {
   "codemirror_mode": {
    "name": "ipython",
    "version": 3
   },
   "file_extension": ".py",
   "mimetype": "text/x-python",
   "name": "python",
   "nbconvert_exporter": "python",
   "pygments_lexer": "ipython3",
   "version": "3.10.8"
  }
 },
 "nbformat": 4,
 "nbformat_minor": 5
}
