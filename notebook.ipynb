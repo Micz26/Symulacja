{
 "cells": [
  {
   "cell_type": "code",
   "outputs": [],
   "source": [
    "from main import day"
   ],
   "metadata": {
    "collapsed": false,
    "ExecuteTime": {
     "end_time": "2024-01-13T22:25:41.409656600Z",
     "start_time": "2024-01-13T22:25:41.393975400Z"
    }
   },
   "id": "c4cf8e8cf5341c29",
   "execution_count": 8
  },
  {
   "cell_type": "markdown",
   "source": [
    "Let's assume there are three days with different peculiarities corresponding to their nature, thus different frequency of visiting clients."
   ],
   "metadata": {
    "collapsed": false
   },
   "id": "218b1573c4335aba"
  },
  {
   "cell_type": "code",
   "outputs": [],
   "source": [
    "working_day = {\n",
    "    '8:00-9:00': 1/150,\n",
    "    '9:00-10:00': 1/170,\n",
    "    '10:00-11:00': 1/225,\n",
    "    '11:00-12:00': 1/250,\n",
    "    '12:00-13:00': 1/300,\n",
    "    '13:00-14:00': 1/250,\n",
    "    '14:00-15:00': 1/150,\n",
    "    '15:00-16:00': 1/100,\n",
    "    '16:00-17:00': 1/70,\n",
    "    '17:00-18:00': 1/50,\n",
    "    '18:00-19:00': 1/70,\n",
    "    '19:00-20:00': 1/150,\n",
    "    '20:00-21:00': 1/200,\n",
    "    '21:00-22:00': 1/250,\n",
    "    '22:00-23:00': 1/350\n",
    "}\n",
    "\n",
    "\n",
    "day_off = {\n",
    "    '8:00-9:00': 1/200,\n",
    "    '9:00-10:00': 1/200,\n",
    "    '10:00-11:00': 1/190,\n",
    "    '11:00-12:00': 1/180,\n",
    "    '12:00-13:00': 1/170,\n",
    "    '13:00-14:00': 1/160,\n",
    "    '14:00-15:00': 1/150,\n",
    "    '15:00-16:00': 1/130,\n",
    "    '16:00-17:00': 1/130,\n",
    "    '17:00-18:00': 1/130,\n",
    "    '18:00-19:00': 1/150,\n",
    "    '19:00-20:00': 1/200,\n",
    "    '20:00-21:00': 1/250,\n",
    "    '21:00-22:00': 1/250,\n",
    "    '22:00-23:00': 1/200\n",
    "}\n",
    "\n",
    "pre_holiday = {\n",
    "    '8:00-9:00': 1/300,\n",
    "    '9:00-10:00': 1/280,\n",
    "    '10:00-11:00': 1/250,\n",
    "    '11:00-12:00': 1/220,\n",
    "    '12:00-13:00': 1/190,\n",
    "    '13:00-14:00': 1/160,\n",
    "    '14:00-15:00': 1/140,\n",
    "    '15:00-16:00': 1/120,\n",
    "    '16:00-17:00': 1/100,\n",
    "    '17:00-18:00': 1/80,\n",
    "    '18:00-19:00': 1/60,\n",
    "    '19:00-20:00': 1/40,\n",
    "    '20:00-21:00': 1/80,\n",
    "    '21:00-22:00': 1/150,\n",
    "    '22:00-23:00': 1/100\n",
    "}"
   ],
   "metadata": {
    "collapsed": false,
    "ExecuteTime": {
     "end_time": "2024-01-13T22:45:03.164860100Z",
     "start_time": "2024-01-13T22:45:03.155293600Z"
    }
   },
   "id": "de16e73f0ed8e6f6",
   "execution_count": 9
  },
  {
   "cell_type": "markdown",
   "source": [
    "To fully analyze the impact of traditional counters and self-checkouts on shopping queue times, the number of traditional counters will vary, from 3 to 7, nonetheless, since self-checkouts registers do not require more than one employee (regardless from their amount), their total number will remain constant at six"
   ],
   "metadata": {
    "collapsed": false
   },
   "id": "3c9e2b2566eba8a4"
  }
 ],
 "metadata": {
  "kernelspec": {
   "name": "python3",
   "language": "python",
   "display_name": "Python 3 (ipykernel)"
  }
 },
 "nbformat": 4,
 "nbformat_minor": 5
}
